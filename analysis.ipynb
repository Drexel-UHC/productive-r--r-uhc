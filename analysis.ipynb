{
 "cells": [
  {
   "cell_type": "markdown",
   "metadata": {},
   "source": [
    "---\n",
    "title: 'My first ipynb'\n",
    "subtitle: 'this is kind of fun!'\n",
    "author: Ran Li\n",
    "---\n",
    "\n",
    "# Intro\n",
    "\n",
    "My first .pynb quarto doc.\n",
    "\n",
    "Let's show how quarto code chunks are 100% translatable from quarto markdown (.qmd) to Jupyter notebooks (.jupyter). Below we will do code chunk that has a sumamry and is code folded."
   ]
  },
  {
   "cell_type": "code",
   "execution_count": 4,
   "metadata": {},
   "outputs": [
    {
     "name": "stdout",
     "output_type": "stream",
     "text": [
      "29393\n"
     ]
    }
   ],
   "source": [
    "#| code-fold: true\n",
    "#| code-summary: \"This is some highly complex code for computation\"\n",
    "\n",
    "print(1+29392)"
   ]
  },
  {
   "cell_type": "markdown",
   "metadata": {},
   "source": [
    "# Data\n",
    "\n",
    "Okay let's do the penguins thing but in Python! \n",
    "\n",
    "## Raw data\n",
    "\n",
    "Starting with the data."
   ]
  },
  {
   "cell_type": "code",
   "execution_count": 13,
   "metadata": {},
   "outputs": [
    {
     "name": "stdout",
     "output_type": "stream",
     "text": [
      "(344, 7)\n",
      "shape: (5, 7)\n",
      "┌─────────┬───────────┬────────────────┬───────────────┬───────────────────┬─────────────┬────────┐\n",
      "│ species ┆ island    ┆ bill_length_mm ┆ bill_depth_mm ┆ flipper_length_mm ┆ body_mass_g ┆ sex    │\n",
      "│ ---     ┆ ---       ┆ ---            ┆ ---           ┆ ---               ┆ ---         ┆ ---    │\n",
      "│ str     ┆ str       ┆ f64            ┆ f64           ┆ i64               ┆ i64         ┆ str    │\n",
      "╞═════════╪═══════════╪════════════════╪═══════════════╪═══════════════════╪═════════════╪════════╡\n",
      "│ Adelie  ┆ Torgersen ┆ 39.1           ┆ 18.7          ┆ 181               ┆ 3750        ┆ MALE   │\n",
      "│ Adelie  ┆ Torgersen ┆ 39.5           ┆ 17.4          ┆ 186               ┆ 3800        ┆ FEMALE │\n",
      "│ Adelie  ┆ Torgersen ┆ 40.3           ┆ 18.0          ┆ 195               ┆ 3250        ┆ FEMALE │\n",
      "│ Adelie  ┆ Torgersen ┆ null           ┆ null          ┆ null              ┆ null        ┆ null   │\n",
      "│ Adelie  ┆ Torgersen ┆ 36.7           ┆ 19.3          ┆ 193               ┆ 3450        ┆ FEMALE │\n",
      "└─────────┴───────────┴────────────────┴───────────────┴───────────────────┴─────────────┴────────┘\n"
     ]
    }
   ],
   "source": [
    "#| code-fold: false\n",
    "\n",
    "import polars as pl\n",
    "\n",
    "df = pl.read_csv('https://raw.githubusercontent.com/mwaskom/seaborn-data/refs/heads/master/penguins.csv')\n",
    "\n",
    "print(df.shape)\n",
    "print(df.head())"
   ]
  },
  {
   "cell_type": "markdown",
   "metadata": {},
   "source": [
    "\n",
    "So this original dataframe was 344 rows - some of which has missling values.\n",
    "\n",
    "## Clean\n",
    "\n",
    "Let's do some basic cleaning which is just to remove the rows with all missing values.\n",
    "\n"
   ]
  },
  {
   "cell_type": "code",
   "execution_count": 10,
   "metadata": {},
   "outputs": [
    {
     "data": {
      "text/plain": [
       "(333, 7)"
      ]
     },
     "execution_count": null,
     "metadata": {},
     "output_type": "execute_result"
    }
   ],
   "source": [
    "df_clean = df.drop_nulls()\n",
    "df_clean.shape"
   ]
  },
  {
   "cell_type": "markdown",
   "metadata": {},
   "source": [
    "Now we can see that the cleaned dataframe which has any row with NULL data in any column was removed only has 333 rows - we dropped 11 rows. Looks good. I think we can start our analysis. \n",
    "\n",
    "# Analysis\n",
    "\n",
    "## Plot"
   ]
  },
  {
   "cell_type": "markdown",
   "metadata": {},
   "source": []
  },
  {
   "cell_type": "code",
   "execution_count": null,
   "metadata": {},
   "outputs": [],
   "source": []
  }
 ],
 "metadata": {
  "language_info": {
   "name": "python"
  }
 },
 "nbformat": 4,
 "nbformat_minor": 2
}
